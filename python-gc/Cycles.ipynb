{
 "cells": [
  {
   "cell_type": "code",
   "execution_count": 1,
   "metadata": {
    "collapsed": true
   },
   "outputs": [],
   "source": [
    "YOUNG_GENERATION = 0\n",
    "\n",
    "class PyGCHead(object):\n",
    "    def __init__(self, instance):\n",
    "        self.refs = 1\n",
    "        self.instance = instance\n",
    "\n",
    "    def __repr__(self):\n",
    "        return \"PyGCHead refs: {} instance: {}\".format(self.refs,\n",
    "                                                       self.instance)"
   ]
  },
  {
   "cell_type": "code",
   "execution_count": 2,
   "metadata": {
    "collapsed": false
   },
   "outputs": [],
   "source": [
    "class GCObject(object):\n",
    "    def __init__(self, rc=0):\n",
    "        self.rc = rc\n",
    "\n",
    "    def tp_traverse(self, fn):\n",
    "        for k, v in self.__dict__.items():\n",
    "            if k != 'rc' and v:\n",
    "                fn(v)"
   ]
  },
  {
   "cell_type": "code",
   "execution_count": 3,
   "metadata": {
    "collapsed": false
   },
   "outputs": [],
   "source": [
    "class GCList(list, GCObject):\n",
    "    def __init__(self):\n",
    "        GCObject.__init__(self)\n",
    "\n",
    "    def tp_traverse(self, fn):\n",
    "        for elem in self:\n",
    "            fn(elem)"
   ]
  },
  {
   "cell_type": "code",
   "execution_count": 4,
   "metadata": {
    "collapsed": true
   },
   "outputs": [],
   "source": [
    "class Foo(GCObject):\n",
    "    def __init__(self, **kwargs):\n",
    "        super(Foo, self).__init__(**kwargs)\n",
    "        self.my_list = None\n",
    "        self.bar = None"
   ]
  },
  {
   "cell_type": "code",
   "execution_count": 5,
   "metadata": {
    "collapsed": true
   },
   "outputs": [],
   "source": [
    "class Bar(GCObject):\n",
    "    def __init__(self, **kwargs):\n",
    "        super(Bar, self).__init__(**kwargs)\n",
    "        self.foo = None"
   ]
  },
  {
   "cell_type": "code",
   "execution_count": 6,
   "metadata": {
    "collapsed": true
   },
   "outputs": [],
   "source": [
    "class GC(object):\n",
    "    def __init__(self):\n",
    "        self.generations = [([], 2),\n",
    "                            ([], 3)]\n",
    "\n",
    "    def allocate(self, kls, *args, **kwargs):\n",
    "        instance = kls(*args, **kwargs)\n",
    "        self.generations[YOUNG_GENERATION][0].append(PyGCHead(instance))\n",
    "        if len(self.generations[0][0]) > self.generations[0][1]:\n",
    "            self.collect(generation=0)\n",
    "\n",
    "        return instance\n",
    "\n",
    "    def search_pygc(self, instance):\n",
    "        for e in self.generations:\n",
    "            for a in e[0]:\n",
    "                if a.instance == instance:\n",
    "                    return a\n",
    "\n",
    "    def update_refs(self, generation_list):\n",
    "        for pygc in generation_list:\n",
    "            pygc.refs = pygc.instance.rc\n",
    "\n",
    "    def visit_reachable(self, instance):\n",
    "        pygc = self.search_pygc(instance)\n",
    "        # We thought that was unreachable but at the end is reachable\n",
    "        if pygc.refs == 0:\n",
    "            pygc.refs = 1\n",
    "        else:\n",
    "            assert pygc.refs > 0\n",
    "\n",
    "    def visit_decref(self, instance):\n",
    "        pygc = self.search_pygc(instance)\n",
    "        # We're only interested in objects of this generation\n",
    "        # older generations refs value is negative.\n",
    "        if pygc.refs > 0:\n",
    "            pygc.refs -= 1\n",
    "\n",
    "    def substract_refs(self, generation_list):\n",
    "        for pygc in generation_list:\n",
    "            pygc.instance.tp_traverse(self.visit_decref)\n",
    "\n",
    "    def move_unreachable(self, young):\n",
    "        for pygc in young:\n",
    "            # It's reachable from outside\n",
    "            if pygc.refs > 0:\n",
    "                pygc.instance.tp_traverse(self.visit_reachable)\n",
    "\n",
    "        unreachable = [pygc for pygc in young if pygc.refs == 0]\n",
    "        young = [pygc for pygc in young if pygc.refs > 0]\n",
    "        return young, unreachable\n",
    "\n",
    "    def move(self, young, old):\n",
    "        old.extend(young)\n",
    "\n",
    "    def delete(self, unreachable):\n",
    "        for pygc in unreachable:\n",
    "            print(\"Byeee cruel world! \", pygc)\n",
    "\n",
    "\n",
    "    def collect(self, generation):\n",
    "        young = self.generations[generation][0]\n",
    "        old = self.generations[generation + 1][0]\n",
    "\n",
    "        self.update_refs(young)\n",
    "        self.substract_refs(young)\n",
    "\n",
    "        unreachable = []\n",
    "        young, unreachable = self.move_unreachable(young)\n",
    "\n",
    "        self.move(young, old)\n",
    "\n",
    "        # handle weakrefs, finalizers\n",
    "\n",
    "        self.delete(unreachable)\n",
    "\n",
    "    def reset_generations(self):\n",
    "        self.generations = [([], 2),\n",
    "                            ([], 3)]\n",
    "\n",
    "    def run_code(self, fn):\n",
    "        self.reset_generations()\n",
    "        fn(self)"
   ]
  },
  {
   "cell_type": "code",
   "execution_count": 7,
   "metadata": {
    "collapsed": true
   },
   "outputs": [],
   "source": [
    "def example1(gc):\n",
    "    import pdb; pdb.set_trace()\n",
    "    l = gc.allocate(GCList)\n",
    "    foo = gc.allocate(Foo)\n",
    "    l.append(foo)\n",
    "    foo.rc += 1\n",
    "    foo.my_list = l\n",
    "    l.rc += 1\n",
    "    foo2 = gc.allocate(Foo, rc=2)\n",
    "    foo2.rc += 1"
   ]
  },
  {
   "cell_type": "code",
   "execution_count": null,
   "metadata": {
    "collapsed": true
   },
   "outputs": [],
   "source": [
    "def example2(gc):\n",
    "    import pdb; pdb.set_trace()\n",
    "    foo = gc.allocate(Foo)\n",
    "    bar = gc.allocate(Bar)\n",
    "    bar.foo = foo\n",
    "    foo.rc += 1\n",
    "    foo.bar = bar\n",
    "    bar.rc += 1\n",
    "    foo2 = gc.allocate(Foo, rc=2)"
   ]
  },
  {
   "cell_type": "code",
   "execution_count": null,
   "metadata": {
    "collapsed": false
   },
   "outputs": [
    {
     "name": "stdout",
     "output_type": "stream",
     "text": [
      "> <ipython-input-7-76fc184fbffd>(3)example1()\n",
      "-> l = gc.allocate(GCList)\n",
      "(Pdb) n\n",
      "> <ipython-input-7-76fc184fbffd>(4)example1()\n",
      "-> foo = gc.allocate(Foo)\n",
      "(Pdb) n\n",
      "> <ipython-input-7-76fc184fbffd>(5)example1()\n",
      "-> l.append(foo)\n",
      "(Pdb) \n",
      "> <ipython-input-7-76fc184fbffd>(6)example1()\n",
      "-> foo.rc += 1\n",
      "(Pdb) \n",
      "> <ipython-input-7-76fc184fbffd>(7)example1()\n",
      "-> foo.my_list = l\n",
      "(Pdb) \n",
      "> <ipython-input-7-76fc184fbffd>(8)example1()\n",
      "-> l.rc += 1\n",
      "(Pdb) \n",
      "> <ipython-input-7-76fc184fbffd>(9)example1()\n",
      "-> foo2 = gc.allocate(Foo, rc=2)\n",
      "(Pdb) \n",
      "Byeee cruel world!  PyGCHead refs: 0 instance: [<__main__.Foo object at 0x7f1a0ed918d0>]\n",
      "Byeee cruel world!  PyGCHead refs: 0 instance: <__main__.Foo object at 0x7f1a0ed918d0>\n",
      "> <ipython-input-7-76fc184fbffd>(10)example1()\n",
      "-> foo2.rc += 1\n",
      "(Pdb) \n",
      "--Return--\n",
      "> <ipython-input-7-76fc184fbffd>(10)example1()->None\n",
      "-> foo2.rc += 1\n",
      "(Pdb) \n",
      "--Return--\n",
      "> <ipython-input-6-93c1f951a9ad>(83)run_code()->None\n",
      "-> fn(self)\n",
      "(Pdb) \n",
      "--Call--\n",
      "> /home/fran/.venvs/py3/lib/python3.4/site-packages/IPython/core/displayhook.py(222)__call__()\n",
      "-> def __call__(self, result=None):\n"
     ]
    }
   ],
   "source": [
    "gc = GC()\n",
    "gc.run_code(example1)"
   ]
  },
  {
   "cell_type": "code",
   "execution_count": null,
   "metadata": {
    "collapsed": true
   },
   "outputs": [],
   "source": []
  }
 ],
 "metadata": {
  "kernelspec": {
   "display_name": "Python 3",
   "language": "python",
   "name": "python3"
  },
  "language_info": {
   "codemirror_mode": {
    "name": "ipython",
    "version": 3
   },
   "file_extension": ".py",
   "mimetype": "text/x-python",
   "name": "python",
   "nbconvert_exporter": "python",
   "pygments_lexer": "ipython3",
   "version": "3.4.1"
  }
 },
 "nbformat": 4,
 "nbformat_minor": 0
}
